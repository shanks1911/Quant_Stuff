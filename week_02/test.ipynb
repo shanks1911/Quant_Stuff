{
 "cells": [
  {
   "cell_type": "code",
   "execution_count": 2,
   "id": "ebd459f3",
   "metadata": {},
   "outputs": [
    {
     "name": "stdout",
     "output_type": "stream",
     "text": [
      "           Date      Spread   Z-Score\n",
      "0    2025-01-06 -181.800949       NaN\n",
      "1    2025-01-07 -179.125214       NaN\n",
      "2    2025-01-08 -180.818039       NaN\n",
      "3    2025-01-10 -181.065414       NaN\n",
      "4    2025-01-13 -181.756271       NaN\n",
      "..          ...         ...       ...\n",
      "118  2025-06-27 -294.860001 -1.728810\n",
      "119  2025-06-30 -292.240005 -1.472297\n",
      "120  2025-07-01 -284.229980 -0.893251\n",
      "121  2025-07-02 -278.649994 -0.459243\n",
      "122  2025-07-03 -285.289993 -0.876386\n",
      "\n",
      "[123 rows x 3 columns]\n"
     ]
    }
   ],
   "source": [
    "from utils.backtester import backtest_strategy\n",
    "import pandas as pd\n",
    "\n",
    "entry_threshold = 2.0\n",
    "exit_threshold = 0.5\n",
    "\n",
    "df = pd.read_csv('data/zscore_data.csv')\n",
    "\n",
    "print(df)"
   ]
  },
  {
   "cell_type": "code",
   "execution_count": null,
   "id": "4b25d4c6",
   "metadata": {},
   "outputs": [],
   "source": []
  }
 ],
 "metadata": {
  "kernelspec": {
   "display_name": "Python 3",
   "language": "python",
   "name": "python3"
  },
  "language_info": {
   "codemirror_mode": {
    "name": "ipython",
    "version": 3
   },
   "file_extension": ".py",
   "mimetype": "text/x-python",
   "name": "python",
   "nbconvert_exporter": "python",
   "pygments_lexer": "ipython3",
   "version": "3.12.0"
  }
 },
 "nbformat": 4,
 "nbformat_minor": 5
}
